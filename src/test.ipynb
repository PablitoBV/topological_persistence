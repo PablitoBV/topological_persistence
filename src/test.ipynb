{
 "cells": [
  {
   "cell_type": "code",
   "execution_count": 1,
   "id": "b3cf4cac",
   "metadata": {},
   "outputs": [],
   "source": [
    "from __future__ import annotations\n",
    "import os\n",
    "from time import perf_counter\n",
    "\n",
    "from filtration import Filtration\n",
    "from boundary import Boundary\n",
    "from reducer import reduce_greedy, reduce_smart\n",
    "from barcode import write_barcode\n",
    "\n",
    "def get_barcode(filtration_path: str, barcode_folder_path: str, method: str = \"both\") -> None:\n",
    "    \"\"\"\n",
    "    Compute the persistent homology barcode from a filtration file.\n",
    "    Args:\n",
    "        filtration_path (str): Path to the filtration file.\n",
    "        barcode_folder_path (str): Path to the output barcode file.\n",
    "        method (str): Reduction method to use (\"greedy\", \"smart\", or \"both\").\n",
    "    \"\"\"\n",
    "\n",
    "    assert method in (\"greedy\", \"smart\", \"both\"), \"method must be one of 'greedy', 'smart', or 'both'.\"\n",
    "\n",
    "    filtration = Filtration.from_file(filtration_path)\n",
    "    boundary_base = Boundary.from_filtration(filtration, strict=True)\n",
    "\n",
    "    input_filename = '.'.join(os.path.basename(filtration_path).split(\".\")[:-1])\n",
    "    print(f\"=== Computing barcode for filtration '{input_filename}' ===\")\n",
    "\n",
    "    if method in (\"greedy\", \"both\"):\n",
    "        # Greedy\n",
    "        boundary_greedy = boundary_base.copy()\n",
    "        t0 = perf_counter()\n",
    "        result_greedy, stats_greedy = reduce_greedy(boundary_greedy)\n",
    "        t1 = perf_counter()\n",
    "        write_barcode(\n",
    "            boundary_greedy.simplices,\n",
    "            result_greedy.lowest_row_of_col,\n",
    "            result_greedy.birth_to_death,\n",
    "            os.path.join(barcode_folder_path, f\"{input_filename}_barcode_greedy.txt\"),\n",
    "        )\n",
    "        print(f\"[greedy] time = {(t1 - t0)*1000:.3f} ms, \"\n",
    "            f\"adds = {stats_greedy.column_additions}, pivots = {stats_greedy.pivots_finalized}\")\n",
    "\n",
    "    if method in (\"smart\", \"both\"):\n",
    "        # Smart\n",
    "        boundary_smart = boundary_base.copy()\n",
    "        t2 = perf_counter()\n",
    "        result_smart, stats_smart = reduce_smart(boundary_smart)\n",
    "        t3 = perf_counter()\n",
    "        write_barcode(\n",
    "            boundary_smart.simplices,\n",
    "            result_smart.lowest_row_of_col,\n",
    "            result_smart.birth_to_death,\n",
    "            os.path.join(barcode_folder_path, f\"{input_filename}_barcode_smart.txt\"),\n",
    "        )\n",
    "        print(f\"[smart ] time = {(t3 - t2)*1000:.3f} ms, \"\n",
    "            f\"adds = {stats_smart.column_additions}, pivots = {stats_smart.pivots_finalized}\")\n"
   ]
  },
  {
   "cell_type": "code",
   "execution_count": 2,
   "id": "22ef6df2",
   "metadata": {},
   "outputs": [
    {
     "name": "stdout",
     "output_type": "stream",
     "text": [
      "=== Computing barcode for filtration 'input-1' ===\n",
      "\n",
      "=== Barcode ===\n",
      "0 1.0 2.0\n",
      "0 1.0 2.0\n",
      "0 1.0 inf\n",
      "0 3.0 4.0\n",
      "1 4.0 inf\n",
      "1 5.0 6.0\n",
      "[greedy] time = 0.042 ms, adds = 5, pivots = 4\n",
      "\n",
      "=== Barcode ===\n",
      "0 1.0 2.0\n",
      "0 1.0 2.0\n",
      "0 1.0 inf\n",
      "0 3.0 4.0\n",
      "1 4.0 inf\n",
      "1 5.0 6.0\n",
      "[smart ] time = 0.178 ms, adds = 4, pivots = 4\n"
     ]
    }
   ],
   "source": [
    "get_barcode(\n",
    "    filtration_path=\"../data/test/input-1.txt\",\n",
    "    barcode_folder_path=\"../data/test/barcodes\",\n",
    "    method=\"both\"\n",
    ")"
   ]
  }
 ],
 "metadata": {
  "kernelspec": {
   "display_name": "Python 3",
   "language": "python",
   "name": "python3"
  },
  "language_info": {
   "codemirror_mode": {
    "name": "ipython",
    "version": 3
   },
   "file_extension": ".py",
   "mimetype": "text/x-python",
   "name": "python",
   "nbconvert_exporter": "python",
   "pygments_lexer": "ipython3",
   "version": "3.10.11"
  }
 },
 "nbformat": 4,
 "nbformat_minor": 5
}
