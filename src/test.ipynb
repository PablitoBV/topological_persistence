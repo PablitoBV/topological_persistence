{
 "cells": [
  {
   "cell_type": "code",
   "execution_count": null,
   "id": "b3cf4cac",
   "metadata": {},
   "outputs": [],
   "source": [
    "# example.py\n",
    "from filtration import Filtration\n",
    "\n",
    "F = Filtration.from_file(\"../data/test/input-1.txt\")\n",
    "print(F) # Filtration(n=..., dims={ 0:..., 1:..., 2:... })\n",
    "err = F.validate_monotonicity()\n",
    "if err:\n",
    "    print(\"Validation error:\", err)\n",
    "\n",
    "F.sort_by_filtration()\n",
    "for s in F:\n",
    "    print(s.dim, s.val, s.vert)\n"
   ]
  },
  {
   "cell_type": "code",
   "execution_count": null,
   "id": "590d09a1",
   "metadata": {},
   "outputs": [],
   "source": [
    "# example_q1.py\n",
    "from filtration import Filtration\n",
    "from boundary import (\n",
    "    build_boundary_dense, build_boundary_sparse, print_dense, print_sparse\n",
    ")\n",
    "\n",
    "F = Filtration.from_file(\"../data/test/input-1.txt\")\n",
    "B_dense = build_boundary_dense(F, strict=True)\n",
    "print(\"Dense boundary:\")\n",
    "print_dense(B_dense)\n",
    "\n",
    "B_sparse = build_boundary_sparse(F, strict=True)\n",
    "print(\"\\nSparse boundary (col -> rows with 1):\")\n",
    "print_sparse(B_sparse)\n"
   ]
  },
  {
   "cell_type": "code",
   "execution_count": null,
   "id": "218081ff",
   "metadata": {},
   "outputs": [
    {
     "name": "stdout",
     "output_type": "stream",
     "text": [
      "Greedy stats: Stats(col_additions=5, pivots_finalized=4)\n",
      "Smart  stats: Stats(col_additions=4, pivots_finalized=4)\n"
     ]
    }
   ],
   "source": [
    "# example_gauss.py\n",
    "from filtration import Filtration\n",
    "from boundary import make_boundary\n",
    "from reduce import GreedyReducer, SmartReducer\n",
    "\n",
    "import datetime\n",
    "\n",
    "F = Filtration.from_file(\"../data/test/input-1.txt\")\n",
    "B = make_boundary(F, mode=\"sparse\", strict=True)  # or \"dense\"\n",
    "\n",
    "# Greedy\n",
    "g = GreedyReducer(enable_clearing=False)\n",
    "start = datetime.datetime.now()\n",
    "rr_g = g.reduce(B)\n",
    "print(\"Greedy reduction time:\", datetime.datetime.now() - start)\n",
    "B.barcode(\"barcode_greedy.txt\")\n",
    "\n",
    "# Rebuild a fresh boundary (since we modified it in-place)\n",
    "B2 = make_boundary(F, mode=\"sparse\", strict=True)\n",
    "\n",
    "# Smart\n",
    "s = SmartReducer(enable_clearing=True)\n",
    "start = datetime.datetime.now()\n",
    "rr_s = s.reduce(B2)\n",
    "print(\"Smart reduction time:\", datetime.datetime.now() - start) \n",
    "B2.barcode(\"barcode_smart.txt\")\n",
    "\n",
    "print(\"Greedy stats:\", g.stats)\n",
    "print(\"Smart  stats:\", s.stats)\n"
   ]
  },
  {
   "cell_type": "code",
   "execution_count": null,
   "id": "b7bc9500",
   "metadata": {},
   "outputs": [],
   "source": [
    "# main.py\n",
    "from reduce import run_pipeline_dense, run_pipeline_sparse\n",
    "\n",
    "# Dense\n",
    "run_pipeline_dense(\"../data/test/input-1.txt\", \"barcode_dense.txt\")\n",
    "\n",
    "# Or sparse\n",
    "run_pipeline_sparse(\"../data/test/input-1.txt\", \"barcode_sparse.txt\")\n"
   ]
  }
 ],
 "metadata": {
  "kernelspec": {
   "display_name": "Python 3",
   "language": "python",
   "name": "python3"
  },
  "language_info": {
   "codemirror_mode": {
    "name": "ipython",
    "version": 3
   },
   "file_extension": ".py",
   "mimetype": "text/x-python",
   "name": "python",
   "nbconvert_exporter": "python",
   "pygments_lexer": "ipython3",
   "version": "3.10.11"
  }
 },
 "nbformat": 4,
 "nbformat_minor": 5
}
