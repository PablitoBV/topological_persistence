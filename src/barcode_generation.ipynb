{
 "cells": [
  {
   "cell_type": "code",
   "execution_count": 1,
   "id": "b3cf4cac",
   "metadata": {},
   "outputs": [],
   "source": [
    "import os\n",
    "import datetime\n",
    "\n",
    "from time import perf_counter\n",
    "\n",
    "from filtration import Filtration\n",
    "from boundary import Boundary\n",
    "from reducer import reduce_greedy, reduce_smart\n",
    "from barcode import write_barcode, plot_barcode_reduction, build_intervals, betti_from_intervals, guess_space\n",
    "\n",
    "def get_barcode(filtration_path: str, barcode_folder_path: str, method: str = \"both\") -> tuple[Boundary, object]:\n",
    "    \"\"\"\n",
    "    Compute the persistent homology barcode from a filtration file.\n",
    "    Args:\n",
    "        filtration_path (str): Path to the filtration file.\n",
    "        barcode_folder_path (str): Path to the output barcode file.\n",
    "        method (str): Reduction method to use (\"greedy\", \"smart\", or \"both\").\n",
    "    \"\"\"\n",
    "\n",
    "    assert method in (\"greedy\", \"smart\", \"both\"), \"method must be one of 'greedy', 'smart', or 'both'.\"\n",
    "\n",
    "    tps_filtration = datetime.datetime.now()\n",
    "    filtration = Filtration.from_file(filtration_path)\n",
    "    tps_filtration = (datetime.datetime.now() - tps_filtration).total_seconds()\n",
    "\n",
    "    tps_boundary = datetime.datetime.now()\n",
    "    boundary_base = Boundary.from_filtration(filtration, strict=True)\n",
    "    tps_boundary = (datetime.datetime.now() - tps_boundary).total_seconds()\n",
    "\n",
    "    input_filename = '.'.join(os.path.basename(filtration_path).split(\".\")[:-1])\n",
    "    print(f\"=== Computing barcode for filtration '{input_filename}' ===\")\n",
    "\n",
    "    if method in (\"greedy\", \"both\"):\n",
    "        # Greedy\n",
    "        boundary_greedy = boundary_base.copy()\n",
    "        t0 = perf_counter()\n",
    "        result_greedy, stats_greedy = reduce_greedy(boundary_greedy)\n",
    "        t1 = perf_counter()\n",
    "        write_barcode(\n",
    "            boundary_greedy.simplices,\n",
    "            result_greedy.lowest_row_of_col,\n",
    "            result_greedy.birth_to_death,\n",
    "            os.path.join(barcode_folder_path, f\"{input_filename}_barcode_greedy.txt\"),\n",
    "        )\n",
    "        tps_reduction = t1 - t0\n",
    "        print(f\"[greedy] time = {(t1 - t0)*1000:.3f} ms, \"\n",
    "            f\"adds = {stats_greedy.column_additions}, pivots = {stats_greedy.pivots_finalized}\")\n",
    "        \n",
    "        boundary, result = boundary_greedy, result_greedy\n",
    "\n",
    "    if method in (\"smart\", \"both\"):\n",
    "        # Smart\n",
    "        boundary_smart = boundary_base.copy()\n",
    "        t2 = perf_counter()\n",
    "        result_smart, stats_smart = reduce_smart(boundary_smart)\n",
    "        t3 = perf_counter()\n",
    "        write_barcode(\n",
    "            boundary_smart.simplices,\n",
    "            result_smart.lowest_row_of_col,\n",
    "            result_smart.birth_to_death,\n",
    "            os.path.join(barcode_folder_path, f\"{input_filename}_barcode_smart.txt\"),\n",
    "        )\n",
    "        tps_reduction = t3 - t2\n",
    "        print(f\"[smart ] time = {(t3 - t2)*1000:.3f} ms, \"\n",
    "            f\"adds = {stats_smart.column_additions}, pivots = {stats_smart.pivots_finalized}\")\n",
    "        \n",
    "        boundary, result = boundary_smart, result_smart\n",
    "\n",
    "    \n",
    "    print(f\"Filtration time: {tps_filtration} s\")\n",
    "    print(f\"Boundary matrix construction time: {tps_boundary} s\")\n",
    "    print(f\"Reduction time: {tps_reduction} s\")\n",
    "    print(f\"Total time: {tps_filtration + tps_boundary + tps_reduction} s\")\n",
    "\n",
    "    return input_filename, boundary, result\n"
   ]
  },
  {
   "cell_type": "code",
   "execution_count": 2,
   "id": "22ef6df2",
   "metadata": {},
   "outputs": [
    {
     "name": "stdout",
     "output_type": "stream",
     "text": [
      "=== Computing barcode for filtration 'filtration_D' ===\n",
      "[greedy] time = 170702.937 ms, adds = 20794762, pivots = 1358215\n",
      "Filtration time: 6.225336 s\n",
      "Boundary matrix construction time: 13.21584 s\n",
      "Reduction time: 170.70293737528846 s\n",
      "Total time: 190.14411337528844 s\n"
     ]
    }
   ],
   "source": [
    "filename, boundary, result = get_barcode(\n",
    "    # filtration_path=\"../data/filtration/n-spheres/7-sphere.txt\",\n",
    "    filtration_path=\"../data/filtration/filtration_D.txt\",\n",
    "    barcode_folder_path=\"../data/barcodes/filtrations\",\n",
    "    method=\"greedy\"\n",
    ")"
   ]
  },
  {
   "cell_type": "code",
   "execution_count": 3,
   "id": "052d2ee2",
   "metadata": {},
   "outputs": [
    {
     "name": "stdout",
     "output_type": "stream",
     "text": [
      "Betti: {0: 1}\n",
      "Guess: contractible\n"
     ]
    },
    {
     "data": {
      "image/png": "[encoded data removed]",
      "text/plain": [
       "<Figure size 1800x691.2 with 1 Axes>"
      ]
     },
     "metadata": {},
     "output_type": "display_data"
    }
   ],
   "source": [
    "# 1) Betti & topology guess (on raw intervals)\n",
    "intervals = build_intervals(boundary.simplices, result.lowest_row_of_col, result.birth_to_death)\n",
    "betti = betti_from_intervals(intervals)\n",
    "print(\"Betti:\", betti)\n",
    "print(\"Guess:\", guess_space(betti))\n",
    "\n",
    "plot_barcode_reduction(\n",
    "    boundary.simplices, \n",
    "    result.lowest_row_of_col, \n",
    "    result.birth_to_death,\n",
    "    outfile=f\"../data/barcodes/filtrations/{filename}_barcode.png\", \n",
    "    title=f\"{filename} Barcode\", \n",
    "    # x_mode=\"log_values\", \n",
    "    min_length=0.05\n",
    ")"
   ]
  },
  {
   "cell_type": "code",
   "execution_count": 4,
   "id": "029936ff",
   "metadata": {},
   "outputs": [
    {
     "ename": "Exception",
     "evalue": "",
     "output_type": "error",
     "traceback": [
      "\u001b[0;31m---------------------------------------------------------------------------\u001b[0m",
      "\u001b[0;31mException\u001b[0m                                 Traceback (most recent call last)",
      "Cell \u001b[0;32mIn[4], line 1\u001b[0m\n\u001b[0;32m----> 1\u001b[0m \u001b[38;5;28;01mraise\u001b[39;00m \u001b[38;5;167;01mException\u001b[39;00m()\n\u001b[1;32m      2\u001b[0m \u001b[38;5;28;01mfor\u001b[39;00m idx \u001b[38;5;129;01min\u001b[39;00m \u001b[38;5;28mrange\u001b[39m(\u001b[38;5;241m0\u001b[39m, \u001b[38;5;241m10\u001b[39m):\n\u001b[1;32m      3\u001b[0m     start \u001b[38;5;241m=\u001b[39m datetime\u001b[38;5;241m.\u001b[39mdatetime\u001b[38;5;241m.\u001b[39mnow()\n",
      "\u001b[0;31mException\u001b[0m: "
     ]
    }
   ],
   "source": [
    "raise Exception()\n",
    "for idx in range(0, 10):\n",
    "    start = datetime.datetime.now()\n",
    "    filename, boundary, result = get_barcode(\n",
    "        filtration_path=f\"../data/filtration/n-balls/{idx}-ball.txt\",\n",
    "        # filtration_path=\"../data/filtration/filtration_A.txt\",\n",
    "        barcode_folder_path=\"../data/barcodes/n-balls\",\n",
    "        method=\"smart\"\n",
    "    )\n",
    "\n",
    "    print(f\"Computation for {idx}-ball took {(datetime.datetime.now() - start).total_seconds()}\")\n",
    "\n",
    "    intervals = build_intervals(boundary.simplices, result.lowest_row_of_col, result.birth_to_death)\n",
    "    betti = betti_from_intervals(intervals)\n",
    "    print(\"Betti:\", betti)\n",
    "    print(\"Guess:\", guess_space(betti))\n",
    "\n",
    "    plot_barcode_reduction(\n",
    "        boundary.simplices, \n",
    "        result.lowest_row_of_col,\n",
    "        result.birth_to_death,\n",
    "        outfile=f\"../data/barcodes/n-balls/{filename}_barcode.png\", \n",
    "        title=\"Barcode for \" + filename,\n",
    "    )"
   ]
  }
 ],
 "metadata": {
  "kernelspec": {
   "display_name": "Python 3",
   "language": "python",
   "name": "python3"
  },
  "language_info": {
   "codemirror_mode": {
    "name": "ipython",
    "version": 3
   },
   "file_extension": ".py",
   "mimetype": "text/x-python",
   "name": "python",
   "nbconvert_exporter": "python",
   "pygments_lexer": "ipython3",
   "version": "3.10.11"
  }
 },
 "nbformat": 4,
 "nbformat_minor": 5
}
